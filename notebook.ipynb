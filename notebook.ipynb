{
 "cells": [
  {
   "cell_type": "code",
   "execution_count": 1,
   "metadata": {},
   "outputs": [],
   "source": [
    "from scrapping_script_bazar_afrique import main_bazar_afrique\n",
    "from scrapping_script_carisowo import main_carisowo\n",
    "from scrapping_script_coin_afrique import main_coin_afrique\n",
    "from scrapping_script_iliko import main_iliko\n",
    "from scrapping_script_mtn import main_mtn\n",
    "from scrapping_script_tout_vendu import main_tout_vendu"
   ]
  },
  {
   "cell_type": "code",
   "execution_count": null,
   "metadata": {},
   "outputs": [],
   "source": [
    "main_coin_afrique(\"https://bj.coinafrique.com\")"
   ]
  },
  {
   "cell_type": "code",
   "execution_count": null,
   "metadata": {},
   "outputs": [],
   "source": [
    "main_tout_vendu(\"https://www.toutvendu.bj\")"
   ]
  },
  {
   "cell_type": "code",
   "execution_count": null,
   "metadata": {},
   "outputs": [],
   "source": [
    "main_bazar_afrique(\"https://bj.bazarafrique.com\")"
   ]
  },
  {
   "cell_type": "code",
   "execution_count": null,
   "metadata": {},
   "outputs": [],
   "source": [
    "main_iliko(\"https://www.iliko.bj\")"
   ]
  },
  {
   "cell_type": "code",
   "execution_count": null,
   "metadata": {},
   "outputs": [],
   "source": [
    "main_mtn(\"https://shop.mtn.bj\")"
   ]
  },
  {
   "cell_type": "code",
   "execution_count": null,
   "metadata": {},
   "outputs": [],
   "source": [
    "main_carisowo(\"https://www.carisowo.com\")"
   ]
  },
  {
   "cell_type": "code",
   "execution_count": 1,
   "metadata": {},
   "outputs": [
    {
     "data": {
      "text/plain": [
       "'/home/david/Documents/Python_projects/Scrapping/scrapping_scripts'"
      ]
     },
     "execution_count": 1,
     "metadata": {},
     "output_type": "execute_result"
    }
   ],
   "source": [
    "pwd"
   ]
  },
  {
   "cell_type": "code",
   "execution_count": 2,
   "metadata": {},
   "outputs": [],
   "source": [
    "import pandas as pd\n",
    "\n",
    "df = pd.read_csv(\"Data/produits_mtn.csv\")"
   ]
  },
  {
   "cell_type": "code",
   "execution_count": 3,
   "metadata": {},
   "outputs": [
    {
     "data": {
      "text/html": [
       "<div>\n",
       "<style scoped>\n",
       "    .dataframe tbody tr th:only-of-type {\n",
       "        vertical-align: middle;\n",
       "    }\n",
       "\n",
       "    .dataframe tbody tr th {\n",
       "        vertical-align: top;\n",
       "    }\n",
       "\n",
       "    .dataframe thead th {\n",
       "        text-align: right;\n",
       "    }\n",
       "</style>\n",
       "<table border=\"1\" class=\"dataframe\">\n",
       "  <thead>\n",
       "    <tr style=\"text-align: right;\">\n",
       "      <th></th>\n",
       "      <th>Titre</th>\n",
       "      <th>Prix Normal</th>\n",
       "      <th>Prix Barré</th>\n",
       "      <th>Réduction proposée</th>\n",
       "      <th>Lien Produit</th>\n",
       "      <th>Lien Image</th>\n",
       "      <th>Catégorie</th>\n",
       "      <th>Disponibilité</th>\n",
       "      <th>Fournisseur</th>\n",
       "    </tr>\n",
       "  </thead>\n",
       "  <tbody>\n",
       "    <tr>\n",
       "      <th>0</th>\n",
       "      <td>CHARGEUR RAPIDE SANS FIL ZEBRONICS  WCP1001S</td>\n",
       "      <td>6 500CFA</td>\n",
       "      <td>10 000CFA</td>\n",
       "      <td>- 35%</td>\n",
       "      <td>https://shop.mtn.bj/produit/chargeur-rapide-sa...</td>\n",
       "      <td>https://shop.mtn.bj/wp-content/uploads/2024/12...</td>\n",
       "      <td>Accessoires</td>\n",
       "      <td>NaN</td>\n",
       "      <td>Chaftel</td>\n",
       "    </tr>\n",
       "    <tr>\n",
       "      <th>1</th>\n",
       "      <td>MINI VENTILATEUR PORTATIF GEEPAS 4 INCH TYPE C</td>\n",
       "      <td>4 500CFA</td>\n",
       "      <td>6 000CFA</td>\n",
       "      <td>- 25%</td>\n",
       "      <td>https://shop.mtn.bj/produit/mini-ventilateur-p...</td>\n",
       "      <td>https://shop.mtn.bj/wp-content/uploads/2024/12...</td>\n",
       "      <td>Accessoires</td>\n",
       "      <td>NaN</td>\n",
       "      <td>Chaftel</td>\n",
       "    </tr>\n",
       "    <tr>\n",
       "      <th>2</th>\n",
       "      <td>Smartphone Y'ello AWADJIDJE H5111</td>\n",
       "      <td>39 000CFA</td>\n",
       "      <td>39 000CFA</td>\n",
       "      <td>0%</td>\n",
       "      <td>https://shop.mtn.bj/produit/smartphone-yello-a...</td>\n",
       "      <td>https://shop.mtn.bj/wp-content/uploads/2024/09...</td>\n",
       "      <td>Smartphones</td>\n",
       "      <td>NaN</td>\n",
       "      <td>MTN Bénin</td>\n",
       "    </tr>\n",
       "    <tr>\n",
       "      <th>3</th>\n",
       "      <td>MOXOM MX-KB09</td>\n",
       "      <td>10 500CFA</td>\n",
       "      <td>10 500CFA</td>\n",
       "      <td>0%</td>\n",
       "      <td>https://shop.mtn.bj/produit/moxom-mx-kb09/</td>\n",
       "      <td>https://shop.mtn.bj/wp-content/uploads/2024/08...</td>\n",
       "      <td>Accessoires</td>\n",
       "      <td>NaN</td>\n",
       "      <td>TEDDY COM</td>\n",
       "    </tr>\n",
       "    <tr>\n",
       "      <th>4</th>\n",
       "      <td>Taurus Station Grey - Batteur électrique de pâ...</td>\n",
       "      <td>15 000CFA</td>\n",
       "      <td>20 000CFA</td>\n",
       "      <td>- 25%</td>\n",
       "      <td>https://shop.mtn.bj/produit/taurus-station-gre...</td>\n",
       "      <td>https://shop.mtn.bj/wp-content/uploads/2024/01...</td>\n",
       "      <td>Cuisine et Maison,Petit électroménager</td>\n",
       "      <td>NaN</td>\n",
       "      <td>Chaftel</td>\n",
       "    </tr>\n",
       "  </tbody>\n",
       "</table>\n",
       "</div>"
      ],
      "text/plain": [
       "                                               Titre Prix Normal Prix Barré  \\\n",
       "0       CHARGEUR RAPIDE SANS FIL ZEBRONICS  WCP1001S    6 500CFA  10 000CFA   \n",
       "1     MINI VENTILATEUR PORTATIF GEEPAS 4 INCH TYPE C    4 500CFA   6 000CFA   \n",
       "2                  Smartphone Y'ello AWADJIDJE H5111   39 000CFA  39 000CFA   \n",
       "3                                      MOXOM MX-KB09   10 500CFA  10 500CFA   \n",
       "4  Taurus Station Grey - Batteur électrique de pâ...   15 000CFA  20 000CFA   \n",
       "\n",
       "  Réduction proposée                                       Lien Produit  \\\n",
       "0              - 35%  https://shop.mtn.bj/produit/chargeur-rapide-sa...   \n",
       "1              - 25%  https://shop.mtn.bj/produit/mini-ventilateur-p...   \n",
       "2                 0%  https://shop.mtn.bj/produit/smartphone-yello-a...   \n",
       "3                 0%         https://shop.mtn.bj/produit/moxom-mx-kb09/   \n",
       "4              - 25%  https://shop.mtn.bj/produit/taurus-station-gre...   \n",
       "\n",
       "                                          Lien Image  \\\n",
       "0  https://shop.mtn.bj/wp-content/uploads/2024/12...   \n",
       "1  https://shop.mtn.bj/wp-content/uploads/2024/12...   \n",
       "2  https://shop.mtn.bj/wp-content/uploads/2024/09...   \n",
       "3  https://shop.mtn.bj/wp-content/uploads/2024/08...   \n",
       "4  https://shop.mtn.bj/wp-content/uploads/2024/01...   \n",
       "\n",
       "                                Catégorie Disponibilité Fournisseur  \n",
       "0                             Accessoires           NaN     Chaftel  \n",
       "1                             Accessoires           NaN     Chaftel  \n",
       "2                             Smartphones           NaN   MTN Bénin  \n",
       "3                             Accessoires           NaN   TEDDY COM  \n",
       "4  Cuisine et Maison,Petit électroménager           NaN     Chaftel  "
      ]
     },
     "execution_count": 3,
     "metadata": {},
     "output_type": "execute_result"
    }
   ],
   "source": [
    "df.head()"
   ]
  },
  {
   "cell_type": "code",
   "execution_count": 29,
   "metadata": {},
   "outputs": [],
   "source": [
    "categories = get_categories(\"https://www.carisowo.com/\")"
   ]
  },
  {
   "cell_type": "code",
   "execution_count": 31,
   "metadata": {},
   "outputs": [
    {
     "data": {
      "text/plain": [
       "[{'Nom': 'Voitures',\n",
       "  'URL': 'https://www.carisowo.com//petites-annonces-voitures'},\n",
       " {'Nom': 'Motos', 'URL': 'https://www.carisowo.com//petites-annonces-motos'},\n",
       " {'Nom': 'Utilitaires',\n",
       "  'URL': 'https://www.carisowo.com//petites-annonces-utilitaires'}]"
      ]
     },
     "execution_count": 31,
     "metadata": {},
     "output_type": "execute_result"
    }
   ],
   "source": [
    "categories"
   ]
  },
  {
   "cell_type": "code",
   "execution_count": 38,
   "metadata": {},
   "outputs": [
    {
     "name": "stdout",
     "output_type": "stream",
     "text": [
      "Scraping page : https://www.carisowo.com//petites-annonces-voitures.html\n"
     ]
    },
    {
     "data": {
      "text/plain": [
       "['https://www.carisowo.com//fr/vehicle_listings/annonce-kia-sorento-benin-cotonou-22645',\n",
       " 'https://www.carisowo.com//fr/vehicle_listings/annonce-toyota-rav4-benin-cotonou-22644',\n",
       " 'https://www.carisowo.com//fr/vehicle_listings/annonce-toyota-camry-benin-cotonou-22643',\n",
       " 'https://www.carisowo.com//fr/vehicle_listings/annonce-volvo-xc90-benin-porto-novo-22642',\n",
       " 'https://www.carisowo.com//fr/vehicle_listings/annonce-ford-ranger-benin-porto-novo-22640',\n",
       " 'https://www.carisowo.com//fr/vehicle_listings/annonce-dodge-challenger-benin-porto-novo-22639',\n",
       " 'https://www.carisowo.com//fr/vehicle_listings/annonce-toyota-rav4-benin-abomey-calavi-22638',\n",
       " 'https://www.carisowo.com//fr/vehicle_listings/annonce-toyota-matrix-benin-cotonou-22637',\n",
       " 'https://www.carisowo.com//fr/vehicle_listings/annonce-nissan-almera-benin-cotonou-22636',\n",
       " 'https://www.carisowo.com//fr/vehicle_listings/annonce-toyota-matrix-benin-cotonou-22635',\n",
       " 'https://www.carisowo.com//fr/vehicle_listings/annonce-toyota-avensis-benin-cotonou-22634',\n",
       " 'https://www.carisowo.com//fr/vehicle_listings/annonce-toyota-venza-benin-cotonou-22633',\n",
       " 'https://www.carisowo.com//fr/vehicle_listings/annonce-toyota-highlander-benin-cotonou-22632',\n",
       " 'https://www.carisowo.com//fr/vehicle_listings/annonce-kia-sportage-benin-cotonou-22631',\n",
       " 'https://www.carisowo.com//fr/vehicle_listings/annonce-toyota-rav4-benin-cotonou-22630',\n",
       " 'https://www.carisowo.com//fr/vehicle_listings/annonce-toyota-land-cruiser-benin-cotonou-22629',\n",
       " 'https://www.carisowo.com//fr/vehicle_listings/annonce-toyota-camry-benin-cotonou-22628',\n",
       " 'https://www.carisowo.com//fr/vehicle_listings/annonce-jeep-wrangler-benin-porto-novo-22627',\n",
       " 'https://www.carisowo.com//fr/vehicle_listings/annonce-toyota-rav4-benin-cotonou-22626',\n",
       " 'https://www.carisowo.com//fr/vehicle_listings/annonce-toyota-yaris-verso-benin-cotonou-22625']"
      ]
     },
     "execution_count": 38,
     "metadata": {},
     "output_type": "execute_result"
    }
   ],
   "source": [
    "scrape_products_from_category(categories[0], base_url=\"https://www.carisowo.com/\")"
   ]
  }
 ],
 "metadata": {
  "kernelspec": {
   "display_name": "Datascience_contest_1",
   "language": "python",
   "name": "python3"
  },
  "language_info": {
   "codemirror_mode": {
    "name": "ipython",
    "version": 3
   },
   "file_extension": ".py",
   "mimetype": "text/x-python",
   "name": "python",
   "nbconvert_exporter": "python",
   "pygments_lexer": "ipython3",
   "version": "3.12.3"
  }
 },
 "nbformat": 4,
 "nbformat_minor": 2
}
